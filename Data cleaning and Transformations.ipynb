{
 "cells": [
  {
   "cell_type": "code",
   "execution_count": 2,
   "id": "48a00d37",
   "metadata": {},
   "outputs": [],
   "source": [
    "# Importing Necessary Libraries \n",
    "import pandas as pd\n",
    "import numpy as np\n",
    "import matplotlib.pyplot as plt\n",
    "import seaborn as sns"
   ]
  },
  {
   "cell_type": "code",
   "execution_count": 3,
   "id": "34ecc37f",
   "metadata": {},
   "outputs": [],
   "source": [
    "df = pd.read_csv(\"netflix_titles.csv\")"
   ]
  },
  {
   "cell_type": "code",
   "execution_count": 4,
   "id": "6d7367ea",
   "metadata": {},
   "outputs": [
    {
     "data": {
      "text/html": [
       "<div>\n",
       "<style scoped>\n",
       "    .dataframe tbody tr th:only-of-type {\n",
       "        vertical-align: middle;\n",
       "    }\n",
       "\n",
       "    .dataframe tbody tr th {\n",
       "        vertical-align: top;\n",
       "    }\n",
       "\n",
       "    .dataframe thead th {\n",
       "        text-align: right;\n",
       "    }\n",
       "</style>\n",
       "<table border=\"1\" class=\"dataframe\">\n",
       "  <thead>\n",
       "    <tr style=\"text-align: right;\">\n",
       "      <th></th>\n",
       "      <th>show_id</th>\n",
       "      <th>type</th>\n",
       "      <th>title</th>\n",
       "      <th>director</th>\n",
       "      <th>cast</th>\n",
       "      <th>country</th>\n",
       "      <th>date_added</th>\n",
       "      <th>release_year</th>\n",
       "      <th>rating</th>\n",
       "      <th>duration</th>\n",
       "      <th>listed_in</th>\n",
       "      <th>description</th>\n",
       "    </tr>\n",
       "  </thead>\n",
       "  <tbody>\n",
       "    <tr>\n",
       "      <th>7559</th>\n",
       "      <td>s7560</td>\n",
       "      <td>Movie</td>\n",
       "      <td>Naruto Shippuden : Blood Prison</td>\n",
       "      <td>Masahiko Murata</td>\n",
       "      <td>Junko Takeuchi, Chie Nakamura, Rikiya Koyama, ...</td>\n",
       "      <td>Japan</td>\n",
       "      <td>September 1, 2017</td>\n",
       "      <td>2011</td>\n",
       "      <td>TV-14</td>\n",
       "      <td>102 min</td>\n",
       "      <td>Action &amp; Adventure, Anime Features, Internatio...</td>\n",
       "      <td>Mistakenly accused of an attack on the Fourth ...</td>\n",
       "    </tr>\n",
       "    <tr>\n",
       "      <th>1280</th>\n",
       "      <td>s1281</td>\n",
       "      <td>Movie</td>\n",
       "      <td>Pelé</td>\n",
       "      <td>David Tryhorn, Ben Nicholas</td>\n",
       "      <td>NaN</td>\n",
       "      <td>United Kingdom</td>\n",
       "      <td>February 23, 2021</td>\n",
       "      <td>2021</td>\n",
       "      <td>TV-14</td>\n",
       "      <td>109 min</td>\n",
       "      <td>Documentaries, International Movies, Sports Mo...</td>\n",
       "      <td>Against the backdrop of a turbulent era in Bra...</td>\n",
       "    </tr>\n",
       "    <tr>\n",
       "      <th>6744</th>\n",
       "      <td>s6745</td>\n",
       "      <td>TV Show</td>\n",
       "      <td>Fear Files... Har Mod Pe Darr</td>\n",
       "      <td>NaN</td>\n",
       "      <td>NaN</td>\n",
       "      <td>India</td>\n",
       "      <td>June 1, 2017</td>\n",
       "      <td>2015</td>\n",
       "      <td>TV-MA</td>\n",
       "      <td>1 Season</td>\n",
       "      <td>International TV Shows, TV Horror, TV Thrillers</td>\n",
       "      <td>Possessed lovers, witches, haunted houses and ...</td>\n",
       "    </tr>\n",
       "    <tr>\n",
       "      <th>3005</th>\n",
       "      <td>s3006</td>\n",
       "      <td>TV Show</td>\n",
       "      <td>DreamWorks How to Train Your Dragon Legends</td>\n",
       "      <td>NaN</td>\n",
       "      <td>Jay Baruchel, Craig Ferguson, America Ferrera,...</td>\n",
       "      <td>United States</td>\n",
       "      <td>January 20, 2020</td>\n",
       "      <td>2011</td>\n",
       "      <td>TV-PG</td>\n",
       "      <td>1 Season</td>\n",
       "      <td>Kids' TV, TV Action &amp; Adventure, TV Sci-Fi &amp; F...</td>\n",
       "      <td>In this set of shorts, Hiccup and the gang lea...</td>\n",
       "    </tr>\n",
       "    <tr>\n",
       "      <th>3545</th>\n",
       "      <td>s3546</td>\n",
       "      <td>Movie</td>\n",
       "      <td>Uncle Naji in UAE</td>\n",
       "      <td>Ahmed Zain</td>\n",
       "      <td>Ibrahim Almeirasi, Ahmed Saif, Alia Almannai, ...</td>\n",
       "      <td>United Arab Emirates</td>\n",
       "      <td>September 1, 2019</td>\n",
       "      <td>2019</td>\n",
       "      <td>TV-14</td>\n",
       "      <td>95 min</td>\n",
       "      <td>Comedies, International Movies</td>\n",
       "      <td>Two young Yemeni business partners decide to g...</td>\n",
       "    </tr>\n",
       "  </tbody>\n",
       "</table>\n",
       "</div>"
      ],
      "text/plain": [
       "     show_id     type                                        title  \\\n",
       "7559   s7560    Movie              Naruto Shippuden : Blood Prison   \n",
       "1280   s1281    Movie                                         Pelé   \n",
       "6744   s6745  TV Show                Fear Files... Har Mod Pe Darr   \n",
       "3005   s3006  TV Show  DreamWorks How to Train Your Dragon Legends   \n",
       "3545   s3546    Movie                            Uncle Naji in UAE   \n",
       "\n",
       "                         director  \\\n",
       "7559              Masahiko Murata   \n",
       "1280  David Tryhorn, Ben Nicholas   \n",
       "6744                          NaN   \n",
       "3005                          NaN   \n",
       "3545                   Ahmed Zain   \n",
       "\n",
       "                                                   cast               country  \\\n",
       "7559  Junko Takeuchi, Chie Nakamura, Rikiya Koyama, ...                 Japan   \n",
       "1280                                                NaN        United Kingdom   \n",
       "6744                                                NaN                 India   \n",
       "3005  Jay Baruchel, Craig Ferguson, America Ferrera,...         United States   \n",
       "3545  Ibrahim Almeirasi, Ahmed Saif, Alia Almannai, ...  United Arab Emirates   \n",
       "\n",
       "             date_added  release_year rating  duration  \\\n",
       "7559  September 1, 2017          2011  TV-14   102 min   \n",
       "1280  February 23, 2021          2021  TV-14   109 min   \n",
       "6744       June 1, 2017          2015  TV-MA  1 Season   \n",
       "3005   January 20, 2020          2011  TV-PG  1 Season   \n",
       "3545  September 1, 2019          2019  TV-14    95 min   \n",
       "\n",
       "                                              listed_in  \\\n",
       "7559  Action & Adventure, Anime Features, Internatio...   \n",
       "1280  Documentaries, International Movies, Sports Mo...   \n",
       "6744    International TV Shows, TV Horror, TV Thrillers   \n",
       "3005  Kids' TV, TV Action & Adventure, TV Sci-Fi & F...   \n",
       "3545                     Comedies, International Movies   \n",
       "\n",
       "                                            description  \n",
       "7559  Mistakenly accused of an attack on the Fourth ...  \n",
       "1280  Against the backdrop of a turbulent era in Bra...  \n",
       "6744  Possessed lovers, witches, haunted houses and ...  \n",
       "3005  In this set of shorts, Hiccup and the gang lea...  \n",
       "3545  Two young Yemeni business partners decide to g...  "
      ]
     },
     "execution_count": 4,
     "metadata": {},
     "output_type": "execute_result"
    }
   ],
   "source": [
    "df.sample(5)"
   ]
  },
  {
   "cell_type": "code",
   "execution_count": 5,
   "id": "470647d6",
   "metadata": {},
   "outputs": [],
   "source": [
    "df.drop([\"show_id\",\"description\"],axis=1,inplace=True)"
   ]
  },
  {
   "cell_type": "code",
   "execution_count": 6,
   "id": "d7469c2f",
   "metadata": {},
   "outputs": [
    {
     "data": {
      "text/html": [
       "<div>\n",
       "<style scoped>\n",
       "    .dataframe tbody tr th:only-of-type {\n",
       "        vertical-align: middle;\n",
       "    }\n",
       "\n",
       "    .dataframe tbody tr th {\n",
       "        vertical-align: top;\n",
       "    }\n",
       "\n",
       "    .dataframe thead th {\n",
       "        text-align: right;\n",
       "    }\n",
       "</style>\n",
       "<table border=\"1\" class=\"dataframe\">\n",
       "  <thead>\n",
       "    <tr style=\"text-align: right;\">\n",
       "      <th></th>\n",
       "      <th>type</th>\n",
       "      <th>title</th>\n",
       "      <th>director</th>\n",
       "      <th>cast</th>\n",
       "      <th>country</th>\n",
       "      <th>date_added</th>\n",
       "      <th>release_year</th>\n",
       "      <th>rating</th>\n",
       "      <th>duration</th>\n",
       "      <th>listed_in</th>\n",
       "    </tr>\n",
       "  </thead>\n",
       "  <tbody>\n",
       "    <tr>\n",
       "      <th>3902</th>\n",
       "      <td>TV Show</td>\n",
       "      <td>Samantha!</td>\n",
       "      <td>NaN</td>\n",
       "      <td>Emmanuelle Araújo, Douglas Silva, Sabrina Nona...</td>\n",
       "      <td>Brazil</td>\n",
       "      <td>April 19, 2019</td>\n",
       "      <td>2019</td>\n",
       "      <td>TV-MA</td>\n",
       "      <td>2 Seasons</td>\n",
       "      <td>International TV Shows, TV Comedies</td>\n",
       "    </tr>\n",
       "    <tr>\n",
       "      <th>6062</th>\n",
       "      <td>Movie</td>\n",
       "      <td>A Walk to Remember</td>\n",
       "      <td>Adam Shankman</td>\n",
       "      <td>Mandy Moore, Shane West, Peter Coyote, Daryl H...</td>\n",
       "      <td>United States</td>\n",
       "      <td>July 1, 2020</td>\n",
       "      <td>2002</td>\n",
       "      <td>PG</td>\n",
       "      <td>102 min</td>\n",
       "      <td>Dramas, Romantic Movies</td>\n",
       "    </tr>\n",
       "    <tr>\n",
       "      <th>1478</th>\n",
       "      <td>TV Show</td>\n",
       "      <td>Equinox</td>\n",
       "      <td>NaN</td>\n",
       "      <td>Danica Curcic, Karoline Hamm, Viola Martinsen,...</td>\n",
       "      <td>Denmark, United States</td>\n",
       "      <td>December 30, 2020</td>\n",
       "      <td>2020</td>\n",
       "      <td>TV-MA</td>\n",
       "      <td>1 Season</td>\n",
       "      <td>International TV Shows, TV Mysteries, TV Thril...</td>\n",
       "    </tr>\n",
       "    <tr>\n",
       "      <th>3938</th>\n",
       "      <td>TV Show</td>\n",
       "      <td>Our Planet</td>\n",
       "      <td>NaN</td>\n",
       "      <td>David Attenborough</td>\n",
       "      <td>United States, United Kingdom</td>\n",
       "      <td>April 5, 2019</td>\n",
       "      <td>2019</td>\n",
       "      <td>TV-PG</td>\n",
       "      <td>1 Season</td>\n",
       "      <td>Docuseries, Science &amp; Nature TV</td>\n",
       "    </tr>\n",
       "    <tr>\n",
       "      <th>6254</th>\n",
       "      <td>Movie</td>\n",
       "      <td>Bawarchi</td>\n",
       "      <td>Hrishikesh Mukherjee</td>\n",
       "      <td>Rajesh Khanna, A.K. Hangal, Durga Khote, Jaya ...</td>\n",
       "      <td>India</td>\n",
       "      <td>December 31, 2019</td>\n",
       "      <td>1972</td>\n",
       "      <td>TV-PG</td>\n",
       "      <td>125 min</td>\n",
       "      <td>Classic Movies, Comedies, Dramas</td>\n",
       "    </tr>\n",
       "  </tbody>\n",
       "</table>\n",
       "</div>"
      ],
      "text/plain": [
       "         type               title              director  \\\n",
       "3902  TV Show           Samantha!                   NaN   \n",
       "6062    Movie  A Walk to Remember         Adam Shankman   \n",
       "1478  TV Show             Equinox                   NaN   \n",
       "3938  TV Show          Our Planet                   NaN   \n",
       "6254    Movie            Bawarchi  Hrishikesh Mukherjee   \n",
       "\n",
       "                                                   cast  \\\n",
       "3902  Emmanuelle Araújo, Douglas Silva, Sabrina Nona...   \n",
       "6062  Mandy Moore, Shane West, Peter Coyote, Daryl H...   \n",
       "1478  Danica Curcic, Karoline Hamm, Viola Martinsen,...   \n",
       "3938                                 David Attenborough   \n",
       "6254  Rajesh Khanna, A.K. Hangal, Durga Khote, Jaya ...   \n",
       "\n",
       "                            country         date_added  release_year rating  \\\n",
       "3902                         Brazil     April 19, 2019          2019  TV-MA   \n",
       "6062                  United States       July 1, 2020          2002     PG   \n",
       "1478         Denmark, United States  December 30, 2020          2020  TV-MA   \n",
       "3938  United States, United Kingdom      April 5, 2019          2019  TV-PG   \n",
       "6254                          India  December 31, 2019          1972  TV-PG   \n",
       "\n",
       "       duration                                          listed_in  \n",
       "3902  2 Seasons                International TV Shows, TV Comedies  \n",
       "6062    102 min                            Dramas, Romantic Movies  \n",
       "1478   1 Season  International TV Shows, TV Mysteries, TV Thril...  \n",
       "3938   1 Season                    Docuseries, Science & Nature TV  \n",
       "6254    125 min                   Classic Movies, Comedies, Dramas  "
      ]
     },
     "execution_count": 6,
     "metadata": {},
     "output_type": "execute_result"
    }
   ],
   "source": [
    "df.sample(5)"
   ]
  },
  {
   "cell_type": "code",
   "execution_count": 7,
   "id": "f7358c2f",
   "metadata": {},
   "outputs": [
    {
     "data": {
      "text/plain": [
       "(8807, 10)"
      ]
     },
     "execution_count": 7,
     "metadata": {},
     "output_type": "execute_result"
    }
   ],
   "source": [
    "df.shape"
   ]
  },
  {
   "cell_type": "code",
   "execution_count": 8,
   "id": "0efa0129",
   "metadata": {},
   "outputs": [
    {
     "data": {
      "text/plain": [
       "88070"
      ]
     },
     "execution_count": 8,
     "metadata": {},
     "output_type": "execute_result"
    }
   ],
   "source": [
    "df.size"
   ]
  },
  {
   "cell_type": "code",
   "execution_count": 9,
   "id": "85f3c961",
   "metadata": {},
   "outputs": [
    {
     "data": {
      "text/plain": [
       "RangeIndex(start=0, stop=8807, step=1)"
      ]
     },
     "execution_count": 9,
     "metadata": {},
     "output_type": "execute_result"
    }
   ],
   "source": [
    "df.index"
   ]
  },
  {
   "cell_type": "code",
   "execution_count": 10,
   "id": "1c48aed4",
   "metadata": {},
   "outputs": [
    {
     "data": {
      "text/plain": [
       "Index(['type', 'title', 'director', 'cast', 'country', 'date_added',\n",
       "       'release_year', 'rating', 'duration', 'listed_in'],\n",
       "      dtype='object')"
      ]
     },
     "execution_count": 10,
     "metadata": {},
     "output_type": "execute_result"
    }
   ],
   "source": [
    "df.columns"
   ]
  },
  {
   "cell_type": "code",
   "execution_count": 11,
   "id": "5ebedd0d",
   "metadata": {},
   "outputs": [
    {
     "name": "stdout",
     "output_type": "stream",
     "text": [
      "<class 'pandas.core.frame.DataFrame'>\n",
      "RangeIndex: 8807 entries, 0 to 8806\n",
      "Data columns (total 10 columns):\n",
      " #   Column        Non-Null Count  Dtype \n",
      "---  ------        --------------  ----- \n",
      " 0   type          8807 non-null   object\n",
      " 1   title         8807 non-null   object\n",
      " 2   director      6173 non-null   object\n",
      " 3   cast          7982 non-null   object\n",
      " 4   country       7976 non-null   object\n",
      " 5   date_added    8797 non-null   object\n",
      " 6   release_year  8807 non-null   int64 \n",
      " 7   rating        8803 non-null   object\n",
      " 8   duration      8804 non-null   object\n",
      " 9   listed_in     8807 non-null   object\n",
      "dtypes: int64(1), object(9)\n",
      "memory usage: 688.2+ KB\n"
     ]
    }
   ],
   "source": [
    "df.info()"
   ]
  },
  {
   "cell_type": "code",
   "execution_count": 12,
   "id": "0283ad56",
   "metadata": {},
   "outputs": [
    {
     "data": {
      "text/plain": [
       "type               0\n",
       "title              0\n",
       "director        2634\n",
       "cast             825\n",
       "country          831\n",
       "date_added        10\n",
       "release_year       0\n",
       "rating             4\n",
       "duration           3\n",
       "listed_in          0\n",
       "dtype: int64"
      ]
     },
     "execution_count": 12,
     "metadata": {},
     "output_type": "execute_result"
    }
   ],
   "source": [
    "df.isna().sum()"
   ]
  },
  {
   "cell_type": "code",
   "execution_count": 13,
   "id": "771799a6",
   "metadata": {},
   "outputs": [
    {
     "data": {
      "text/plain": [
       "United States     2818\n",
       "India              972\n",
       "United Kingdom     419\n",
       "Name: country, dtype: int64"
      ]
     },
     "execution_count": 13,
     "metadata": {},
     "output_type": "execute_result"
    }
   ],
   "source": [
    "df[\"country\"].value_counts().head(3)"
   ]
  },
  {
   "cell_type": "code",
   "execution_count": 14,
   "id": "39607174",
   "metadata": {},
   "outputs": [
    {
     "data": {
      "text/plain": [
       "'United States'"
      ]
     },
     "execution_count": 14,
     "metadata": {},
     "output_type": "execute_result"
    }
   ],
   "source": [
    "mode_country = df[\"country\"].mode()[0]\n",
    "mode_country"
   ]
  },
  {
   "cell_type": "code",
   "execution_count": 15,
   "id": "aa1aa1ab",
   "metadata": {},
   "outputs": [],
   "source": [
    "df[\"country\"] = df[\"country\"].fillna(mode_country)"
   ]
  },
  {
   "cell_type": "code",
   "execution_count": 16,
   "id": "d65dfa4d",
   "metadata": {},
   "outputs": [
    {
     "data": {
      "text/plain": [
       "0"
      ]
     },
     "execution_count": 16,
     "metadata": {},
     "output_type": "execute_result"
    }
   ],
   "source": [
    "df[\"country\"].isna().sum()"
   ]
  },
  {
   "cell_type": "code",
   "execution_count": 17,
   "id": "81112c35",
   "metadata": {},
   "outputs": [
    {
     "data": {
      "text/plain": [
       "January 1, 2020     109\n",
       "November 1, 2019     89\n",
       "March 1, 2018        75\n",
       "Name: date_added, dtype: int64"
      ]
     },
     "execution_count": 17,
     "metadata": {},
     "output_type": "execute_result"
    }
   ],
   "source": [
    "df[\"date_added\"].value_counts().head(3)"
   ]
  },
  {
   "cell_type": "code",
   "execution_count": 18,
   "id": "9e36318f",
   "metadata": {},
   "outputs": [
    {
     "data": {
      "text/plain": [
       "'January 1, 2020'"
      ]
     },
     "execution_count": 18,
     "metadata": {},
     "output_type": "execute_result"
    }
   ],
   "source": [
    "mode_date = df[\"date_added\"].mode()[0]\n",
    "mode_date"
   ]
  },
  {
   "cell_type": "code",
   "execution_count": 19,
   "id": "38f05be8",
   "metadata": {},
   "outputs": [],
   "source": [
    "df[\"date_added\"] = df[\"date_added\"].fillna(mode_date)"
   ]
  },
  {
   "cell_type": "code",
   "execution_count": 20,
   "id": "b0f5c9ba",
   "metadata": {},
   "outputs": [
    {
     "data": {
      "text/plain": [
       "0"
      ]
     },
     "execution_count": 20,
     "metadata": {},
     "output_type": "execute_result"
    }
   ],
   "source": [
    "df[\"date_added\"].isna().sum()"
   ]
  },
  {
   "cell_type": "code",
   "execution_count": 21,
   "id": "a9a618e0",
   "metadata": {},
   "outputs": [
    {
     "data": {
      "text/plain": [
       "'TV-MA'"
      ]
     },
     "execution_count": 21,
     "metadata": {},
     "output_type": "execute_result"
    }
   ],
   "source": [
    "mode_rating = df[\"rating\"].mode()[0]\n",
    "mode_rating"
   ]
  },
  {
   "cell_type": "code",
   "execution_count": 22,
   "id": "34ba6ad4",
   "metadata": {},
   "outputs": [],
   "source": [
    "df[\"rating\"] = df[\"rating\"].fillna(mode_rating)"
   ]
  },
  {
   "cell_type": "code",
   "execution_count": 23,
   "id": "47af49a4",
   "metadata": {},
   "outputs": [
    {
     "data": {
      "text/plain": [
       "0"
      ]
     },
     "execution_count": 23,
     "metadata": {},
     "output_type": "execute_result"
    }
   ],
   "source": [
    "df[\"rating\"].isna().sum()"
   ]
  },
  {
   "cell_type": "code",
   "execution_count": 24,
   "id": "1161ef1a",
   "metadata": {},
   "outputs": [
    {
     "data": {
      "text/plain": [
       "'1 Season'"
      ]
     },
     "execution_count": 24,
     "metadata": {},
     "output_type": "execute_result"
    }
   ],
   "source": [
    "mode_duration = df[\"duration\"].mode()[0]\n",
    "mode_duration"
   ]
  },
  {
   "cell_type": "code",
   "execution_count": 25,
   "id": "43947f7f",
   "metadata": {},
   "outputs": [],
   "source": [
    "df[\"duration\"] = df[\"duration\"].fillna(mode_duration)"
   ]
  },
  {
   "cell_type": "code",
   "execution_count": 26,
   "id": "0868f1f5",
   "metadata": {},
   "outputs": [
    {
     "data": {
      "text/plain": [
       "0"
      ]
     },
     "execution_count": 26,
     "metadata": {},
     "output_type": "execute_result"
    }
   ],
   "source": [
    "df[\"duration\"].isna().sum()"
   ]
  },
  {
   "cell_type": "code",
   "execution_count": 27,
   "id": "a06bda97",
   "metadata": {},
   "outputs": [],
   "source": [
    "df[\"director\"] = df[\"director\"].fillna(\"Not Mentioned\")"
   ]
  },
  {
   "cell_type": "code",
   "execution_count": 28,
   "id": "942aba5e",
   "metadata": {},
   "outputs": [
    {
     "data": {
      "text/plain": [
       "0"
      ]
     },
     "execution_count": 28,
     "metadata": {},
     "output_type": "execute_result"
    }
   ],
   "source": [
    "df[\"director\"].isna().sum()"
   ]
  },
  {
   "cell_type": "code",
   "execution_count": 29,
   "id": "8143d047",
   "metadata": {},
   "outputs": [],
   "source": [
    "df[\"cast\"] = df[\"cast\"].fillna(\"Not Mentioned\")"
   ]
  },
  {
   "cell_type": "code",
   "execution_count": 30,
   "id": "f429ac03",
   "metadata": {},
   "outputs": [
    {
     "data": {
      "text/plain": [
       "0"
      ]
     },
     "execution_count": 30,
     "metadata": {},
     "output_type": "execute_result"
    }
   ],
   "source": [
    "df[\"cast\"].isna().sum()"
   ]
  },
  {
   "cell_type": "code",
   "execution_count": 31,
   "id": "e3471841",
   "metadata": {},
   "outputs": [
    {
     "data": {
      "text/plain": [
       "type            0\n",
       "title           0\n",
       "director        0\n",
       "cast            0\n",
       "country         0\n",
       "date_added      0\n",
       "release_year    0\n",
       "rating          0\n",
       "duration        0\n",
       "listed_in       0\n",
       "dtype: int64"
      ]
     },
     "execution_count": 31,
     "metadata": {},
     "output_type": "execute_result"
    }
   ],
   "source": [
    "df.isna().sum()"
   ]
  },
  {
   "cell_type": "code",
   "execution_count": 32,
   "id": "a17d378f",
   "metadata": {},
   "outputs": [
    {
     "data": {
      "text/plain": [
       "array(['PG-13', 'TV-MA', 'PG', 'TV-14', 'TV-PG', 'TV-Y', 'TV-Y7', 'R',\n",
       "       'TV-G', 'G', 'NC-17', '74 min', '84 min', '66 min', 'NR',\n",
       "       'TV-Y7-FV', 'UR'], dtype=object)"
      ]
     },
     "execution_count": 32,
     "metadata": {},
     "output_type": "execute_result"
    }
   ],
   "source": [
    "df[\"rating\"].unique()"
   ]
  },
  {
   "cell_type": "code",
   "execution_count": 33,
   "id": "5326a99d",
   "metadata": {},
   "outputs": [],
   "source": [
    "df = df[~df[\"rating\"].str.contains(\"min\")]"
   ]
  },
  {
   "cell_type": "code",
   "execution_count": 34,
   "id": "583229a9",
   "metadata": {},
   "outputs": [
    {
     "data": {
      "text/plain": [
       "array(['PG-13', 'TV-MA', 'PG', 'TV-14', 'TV-PG', 'TV-Y', 'TV-Y7', 'R',\n",
       "       'TV-G', 'G', 'NC-17', 'NR', 'TV-Y7-FV', 'UR'], dtype=object)"
      ]
     },
     "execution_count": 34,
     "metadata": {},
     "output_type": "execute_result"
    }
   ],
   "source": [
    "df[\"rating\"].unique()"
   ]
  },
  {
   "cell_type": "code",
   "execution_count": 35,
   "id": "12e32400",
   "metadata": {},
   "outputs": [
    {
     "data": {
      "text/plain": [
       "array(['September 25, 2021', 'September 24, 2021', 'September 23, 2021',\n",
       "       ..., 'December 6, 2018', 'March 9, 2016', 'January 11, 2020'],\n",
       "      dtype=object)"
      ]
     },
     "execution_count": 35,
     "metadata": {},
     "output_type": "execute_result"
    }
   ],
   "source": [
    "df[\"date_added\"].unique()"
   ]
  },
  {
   "cell_type": "code",
   "execution_count": 36,
   "id": "f01e1ba4",
   "metadata": {},
   "outputs": [],
   "source": [
    "df[\"date_added\"] = df[\"date_added\"].str.replace(\",\",\"\")"
   ]
  },
  {
   "cell_type": "code",
   "execution_count": 37,
   "id": "f52334d9",
   "metadata": {},
   "outputs": [
    {
     "data": {
      "text/plain": [
       "array(['September 25 2021', 'September 24 2021', 'September 23 2021', ...,\n",
       "       'December 6 2018', 'March 9 2016', 'January 11 2020'], dtype=object)"
      ]
     },
     "execution_count": 37,
     "metadata": {},
     "output_type": "execute_result"
    }
   ],
   "source": [
    "df[\"date_added\"].unique()"
   ]
  },
  {
   "cell_type": "code",
   "execution_count": 38,
   "id": "7d47bd4f",
   "metadata": {},
   "outputs": [],
   "source": [
    "df[\"date_added\"] = pd.to_datetime(df[\"date_added\"], errors='coerce')"
   ]
  },
  {
   "cell_type": "code",
   "execution_count": 39,
   "id": "3d3e8e06",
   "metadata": {},
   "outputs": [
    {
     "data": {
      "text/plain": [
       "array(['2021-09-25T00:00:00.000000000', '2021-09-24T00:00:00.000000000',\n",
       "       '2021-09-23T00:00:00.000000000', ...,\n",
       "       '2018-12-06T00:00:00.000000000', '2016-03-09T00:00:00.000000000',\n",
       "       '2020-01-11T00:00:00.000000000'], dtype='datetime64[ns]')"
      ]
     },
     "execution_count": 39,
     "metadata": {},
     "output_type": "execute_result"
    }
   ],
   "source": [
    "df[\"date_added\"].unique()"
   ]
  },
  {
   "cell_type": "code",
   "execution_count": 40,
   "id": "1309e1bb",
   "metadata": {},
   "outputs": [
    {
     "data": {
      "text/html": [
       "<div>\n",
       "<style scoped>\n",
       "    .dataframe tbody tr th:only-of-type {\n",
       "        vertical-align: middle;\n",
       "    }\n",
       "\n",
       "    .dataframe tbody tr th {\n",
       "        vertical-align: top;\n",
       "    }\n",
       "\n",
       "    .dataframe thead th {\n",
       "        text-align: right;\n",
       "    }\n",
       "</style>\n",
       "<table border=\"1\" class=\"dataframe\">\n",
       "  <thead>\n",
       "    <tr style=\"text-align: right;\">\n",
       "      <th></th>\n",
       "      <th>type</th>\n",
       "      <th>title</th>\n",
       "      <th>director</th>\n",
       "      <th>cast</th>\n",
       "      <th>country</th>\n",
       "      <th>date_added</th>\n",
       "      <th>release_year</th>\n",
       "      <th>rating</th>\n",
       "      <th>duration</th>\n",
       "      <th>listed_in</th>\n",
       "    </tr>\n",
       "  </thead>\n",
       "  <tbody>\n",
       "    <tr>\n",
       "      <th>1893</th>\n",
       "      <td>TV Show</td>\n",
       "      <td>DreamWorks Happy Holidays from Madagascar</td>\n",
       "      <td>Not Mentioned</td>\n",
       "      <td>Tom McGrath, Chris Miller, Christopher Knights...</td>\n",
       "      <td>United States</td>\n",
       "      <td>2020-10-02</td>\n",
       "      <td>2005</td>\n",
       "      <td>TV-PG</td>\n",
       "      <td>1 Season</td>\n",
       "      <td>Kids' TV, TV Comedies</td>\n",
       "    </tr>\n",
       "    <tr>\n",
       "      <th>2510</th>\n",
       "      <td>Movie</td>\n",
       "      <td>The Beach Loafer</td>\n",
       "      <td>Ali Ragab</td>\n",
       "      <td>Ahmed Helmy, Yasmin Abdulaziz, Mahmoud Abdel M...</td>\n",
       "      <td>Egypt</td>\n",
       "      <td>2020-05-19</td>\n",
       "      <td>2004</td>\n",
       "      <td>TV-14</td>\n",
       "      <td>112 min</td>\n",
       "      <td>Comedies, International Movies</td>\n",
       "    </tr>\n",
       "    <tr>\n",
       "      <th>2938</th>\n",
       "      <td>TV Show</td>\n",
       "      <td>Fifty: The Series</td>\n",
       "      <td>Not Mentioned</td>\n",
       "      <td>Ireti Doyle, Keira Hewatch, Dakore Akande, Omo...</td>\n",
       "      <td>Nigeria</td>\n",
       "      <td>2020-02-07</td>\n",
       "      <td>2018</td>\n",
       "      <td>TV-14</td>\n",
       "      <td>2 Seasons</td>\n",
       "      <td>International TV Shows, Romantic TV Shows, TV ...</td>\n",
       "    </tr>\n",
       "    <tr>\n",
       "      <th>7694</th>\n",
       "      <td>Movie</td>\n",
       "      <td>Pahuyut Fighting Beat</td>\n",
       "      <td>Piti Jaturaphat</td>\n",
       "      <td>Nattanun Jantarawetch, David Bueno, Peerawat H...</td>\n",
       "      <td>Thailand</td>\n",
       "      <td>2018-07-26</td>\n",
       "      <td>2007</td>\n",
       "      <td>TV-MA</td>\n",
       "      <td>82 min</td>\n",
       "      <td>Action &amp; Adventure, International Movies</td>\n",
       "    </tr>\n",
       "    <tr>\n",
       "      <th>3101</th>\n",
       "      <td>Movie</td>\n",
       "      <td>MFKZ</td>\n",
       "      <td>Shojiro Nishimi, Guillaume Renard</td>\n",
       "      <td>Kenn Michael, Vince Staples, Dino Andrade, Mic...</td>\n",
       "      <td>France, Japan</td>\n",
       "      <td>2019-12-25</td>\n",
       "      <td>2017</td>\n",
       "      <td>R</td>\n",
       "      <td>95 min</td>\n",
       "      <td>Action &amp; Adventure, Comedies, International Mo...</td>\n",
       "    </tr>\n",
       "  </tbody>\n",
       "</table>\n",
       "</div>"
      ],
      "text/plain": [
       "         type                                      title  \\\n",
       "1893  TV Show  DreamWorks Happy Holidays from Madagascar   \n",
       "2510    Movie                           The Beach Loafer   \n",
       "2938  TV Show                          Fifty: The Series   \n",
       "7694    Movie                      Pahuyut Fighting Beat   \n",
       "3101    Movie                                       MFKZ   \n",
       "\n",
       "                               director  \\\n",
       "1893                      Not Mentioned   \n",
       "2510                          Ali Ragab   \n",
       "2938                      Not Mentioned   \n",
       "7694                    Piti Jaturaphat   \n",
       "3101  Shojiro Nishimi, Guillaume Renard   \n",
       "\n",
       "                                                   cast        country  \\\n",
       "1893  Tom McGrath, Chris Miller, Christopher Knights...  United States   \n",
       "2510  Ahmed Helmy, Yasmin Abdulaziz, Mahmoud Abdel M...          Egypt   \n",
       "2938  Ireti Doyle, Keira Hewatch, Dakore Akande, Omo...        Nigeria   \n",
       "7694  Nattanun Jantarawetch, David Bueno, Peerawat H...       Thailand   \n",
       "3101  Kenn Michael, Vince Staples, Dino Andrade, Mic...  France, Japan   \n",
       "\n",
       "     date_added  release_year rating   duration  \\\n",
       "1893 2020-10-02          2005  TV-PG   1 Season   \n",
       "2510 2020-05-19          2004  TV-14    112 min   \n",
       "2938 2020-02-07          2018  TV-14  2 Seasons   \n",
       "7694 2018-07-26          2007  TV-MA     82 min   \n",
       "3101 2019-12-25          2017      R     95 min   \n",
       "\n",
       "                                              listed_in  \n",
       "1893                              Kids' TV, TV Comedies  \n",
       "2510                     Comedies, International Movies  \n",
       "2938  International TV Shows, Romantic TV Shows, TV ...  \n",
       "7694           Action & Adventure, International Movies  \n",
       "3101  Action & Adventure, Comedies, International Mo...  "
      ]
     },
     "execution_count": 40,
     "metadata": {},
     "output_type": "execute_result"
    }
   ],
   "source": [
    "df.sample(5)"
   ]
  },
  {
   "cell_type": "code",
   "execution_count": 41,
   "id": "fa9fb0d4",
   "metadata": {},
   "outputs": [],
   "source": [
    "df[\"year\"] = df[\"date_added\"].dt.year"
   ]
  },
  {
   "cell_type": "code",
   "execution_count": 42,
   "id": "0266cdd2",
   "metadata": {},
   "outputs": [
    {
     "data": {
      "text/html": [
       "<div>\n",
       "<style scoped>\n",
       "    .dataframe tbody tr th:only-of-type {\n",
       "        vertical-align: middle;\n",
       "    }\n",
       "\n",
       "    .dataframe tbody tr th {\n",
       "        vertical-align: top;\n",
       "    }\n",
       "\n",
       "    .dataframe thead th {\n",
       "        text-align: right;\n",
       "    }\n",
       "</style>\n",
       "<table border=\"1\" class=\"dataframe\">\n",
       "  <thead>\n",
       "    <tr style=\"text-align: right;\">\n",
       "      <th></th>\n",
       "      <th>type</th>\n",
       "      <th>title</th>\n",
       "      <th>director</th>\n",
       "      <th>cast</th>\n",
       "      <th>country</th>\n",
       "      <th>date_added</th>\n",
       "      <th>release_year</th>\n",
       "      <th>rating</th>\n",
       "      <th>duration</th>\n",
       "      <th>listed_in</th>\n",
       "      <th>year</th>\n",
       "    </tr>\n",
       "  </thead>\n",
       "  <tbody>\n",
       "    <tr>\n",
       "      <th>7618</th>\n",
       "      <td>Movie</td>\n",
       "      <td>Nova: Ultimate Mars Challenge</td>\n",
       "      <td>Gail Willumsen</td>\n",
       "      <td>Lance Lewman</td>\n",
       "      <td>United States</td>\n",
       "      <td>2019-07-01</td>\n",
       "      <td>2012</td>\n",
       "      <td>TV-G</td>\n",
       "      <td>53 min</td>\n",
       "      <td>Movies</td>\n",
       "      <td>2019</td>\n",
       "    </tr>\n",
       "    <tr>\n",
       "      <th>352</th>\n",
       "      <td>Movie</td>\n",
       "      <td>The Edge of Seventeen</td>\n",
       "      <td>Kelly Fremon Craig</td>\n",
       "      <td>Hailee Steinfeld, Woody Harrelson, Kyra Sedgwi...</td>\n",
       "      <td>United States, China</td>\n",
       "      <td>2021-08-01</td>\n",
       "      <td>2016</td>\n",
       "      <td>R</td>\n",
       "      <td>105 min</td>\n",
       "      <td>Comedies, Dramas</td>\n",
       "      <td>2021</td>\n",
       "    </tr>\n",
       "    <tr>\n",
       "      <th>5172</th>\n",
       "      <td>Movie</td>\n",
       "      <td>Bon Cop Bad Cop 2</td>\n",
       "      <td>Alain Desrochers</td>\n",
       "      <td>Patrick Huard, Colm Feore, Marc Beaupré, Noam ...</td>\n",
       "      <td>Canada</td>\n",
       "      <td>2017-11-11</td>\n",
       "      <td>2017</td>\n",
       "      <td>TV-MA</td>\n",
       "      <td>126 min</td>\n",
       "      <td>Action &amp; Adventure, Comedies, International Mo...</td>\n",
       "      <td>2017</td>\n",
       "    </tr>\n",
       "    <tr>\n",
       "      <th>4926</th>\n",
       "      <td>TV Show</td>\n",
       "      <td>The Honeymoon Stand Up Special</td>\n",
       "      <td>Not Mentioned</td>\n",
       "      <td>Natasha Leggero, Moshe Kasher</td>\n",
       "      <td>United States</td>\n",
       "      <td>2018-04-17</td>\n",
       "      <td>2018</td>\n",
       "      <td>TV-MA</td>\n",
       "      <td>1 Season</td>\n",
       "      <td>Stand-Up Comedy &amp; Talk Shows, TV Comedies</td>\n",
       "      <td>2018</td>\n",
       "    </tr>\n",
       "    <tr>\n",
       "      <th>6379</th>\n",
       "      <td>Movie</td>\n",
       "      <td>Brooklyn's Finest</td>\n",
       "      <td>Antoine Fuqua</td>\n",
       "      <td>Richard Gere, Don Cheadle, Ethan Hawke, Wesley...</td>\n",
       "      <td>United States</td>\n",
       "      <td>2018-10-01</td>\n",
       "      <td>2009</td>\n",
       "      <td>R</td>\n",
       "      <td>133 min</td>\n",
       "      <td>Dramas, Thrillers</td>\n",
       "      <td>2018</td>\n",
       "    </tr>\n",
       "  </tbody>\n",
       "</table>\n",
       "</div>"
      ],
      "text/plain": [
       "         type                           title            director  \\\n",
       "7618    Movie   Nova: Ultimate Mars Challenge      Gail Willumsen   \n",
       "352     Movie           The Edge of Seventeen  Kelly Fremon Craig   \n",
       "5172    Movie               Bon Cop Bad Cop 2    Alain Desrochers   \n",
       "4926  TV Show  The Honeymoon Stand Up Special       Not Mentioned   \n",
       "6379    Movie               Brooklyn's Finest       Antoine Fuqua   \n",
       "\n",
       "                                                   cast               country  \\\n",
       "7618                                       Lance Lewman         United States   \n",
       "352   Hailee Steinfeld, Woody Harrelson, Kyra Sedgwi...  United States, China   \n",
       "5172  Patrick Huard, Colm Feore, Marc Beaupré, Noam ...                Canada   \n",
       "4926                      Natasha Leggero, Moshe Kasher         United States   \n",
       "6379  Richard Gere, Don Cheadle, Ethan Hawke, Wesley...         United States   \n",
       "\n",
       "     date_added  release_year rating  duration  \\\n",
       "7618 2019-07-01          2012   TV-G    53 min   \n",
       "352  2021-08-01          2016      R   105 min   \n",
       "5172 2017-11-11          2017  TV-MA   126 min   \n",
       "4926 2018-04-17          2018  TV-MA  1 Season   \n",
       "6379 2018-10-01          2009      R   133 min   \n",
       "\n",
       "                                              listed_in  year  \n",
       "7618                                             Movies  2019  \n",
       "352                                    Comedies, Dramas  2021  \n",
       "5172  Action & Adventure, Comedies, International Mo...  2017  \n",
       "4926          Stand-Up Comedy & Talk Shows, TV Comedies  2018  \n",
       "6379                                  Dramas, Thrillers  2018  "
      ]
     },
     "execution_count": 42,
     "metadata": {},
     "output_type": "execute_result"
    }
   ],
   "source": [
    "df.sample(5)"
   ]
  },
  {
   "cell_type": "code",
   "execution_count": 43,
   "id": "b7a2ac07",
   "metadata": {},
   "outputs": [],
   "source": [
    "df[\"month\"] = df[\"date_added\"].dt.month"
   ]
  },
  {
   "cell_type": "code",
   "execution_count": 44,
   "id": "e9638cb2",
   "metadata": {},
   "outputs": [
    {
     "data": {
      "text/html": [
       "<div>\n",
       "<style scoped>\n",
       "    .dataframe tbody tr th:only-of-type {\n",
       "        vertical-align: middle;\n",
       "    }\n",
       "\n",
       "    .dataframe tbody tr th {\n",
       "        vertical-align: top;\n",
       "    }\n",
       "\n",
       "    .dataframe thead th {\n",
       "        text-align: right;\n",
       "    }\n",
       "</style>\n",
       "<table border=\"1\" class=\"dataframe\">\n",
       "  <thead>\n",
       "    <tr style=\"text-align: right;\">\n",
       "      <th></th>\n",
       "      <th>type</th>\n",
       "      <th>title</th>\n",
       "      <th>director</th>\n",
       "      <th>cast</th>\n",
       "      <th>country</th>\n",
       "      <th>date_added</th>\n",
       "      <th>release_year</th>\n",
       "      <th>rating</th>\n",
       "      <th>duration</th>\n",
       "      <th>listed_in</th>\n",
       "      <th>year</th>\n",
       "      <th>month</th>\n",
       "    </tr>\n",
       "  </thead>\n",
       "  <tbody>\n",
       "    <tr>\n",
       "      <th>3469</th>\n",
       "      <td>Movie</td>\n",
       "      <td>Little Baby Bum: Go Buster</td>\n",
       "      <td>Not Mentioned</td>\n",
       "      <td>Not Mentioned</td>\n",
       "      <td>United States</td>\n",
       "      <td>2019-10-01</td>\n",
       "      <td>2019</td>\n",
       "      <td>TV-Y</td>\n",
       "      <td>58 min</td>\n",
       "      <td>Children &amp; Family Movies</td>\n",
       "      <td>2019</td>\n",
       "      <td>10</td>\n",
       "    </tr>\n",
       "    <tr>\n",
       "      <th>56</th>\n",
       "      <td>Movie</td>\n",
       "      <td>Naruto Shippuden the Movie: Blood Prison</td>\n",
       "      <td>Masahiko Murata</td>\n",
       "      <td>Junko Takeuchi, Chie Nakamura, Rikiya Koyama, ...</td>\n",
       "      <td>Japan</td>\n",
       "      <td>2021-09-15</td>\n",
       "      <td>2011</td>\n",
       "      <td>TV-14</td>\n",
       "      <td>102 min</td>\n",
       "      <td>Action &amp; Adventure, Anime Features, Internatio...</td>\n",
       "      <td>2021</td>\n",
       "      <td>9</td>\n",
       "    </tr>\n",
       "    <tr>\n",
       "      <th>4603</th>\n",
       "      <td>Movie</td>\n",
       "      <td>Sat Shri Akaal England</td>\n",
       "      <td>Vikram Pradhan</td>\n",
       "      <td>Ammy Virk, Monica Gill, Karamjit Anmol, Sardar...</td>\n",
       "      <td>India</td>\n",
       "      <td>2018-10-01</td>\n",
       "      <td>2017</td>\n",
       "      <td>TV-14</td>\n",
       "      <td>127 min</td>\n",
       "      <td>Comedies, Dramas, International Movies</td>\n",
       "      <td>2018</td>\n",
       "      <td>10</td>\n",
       "    </tr>\n",
       "    <tr>\n",
       "      <th>5504</th>\n",
       "      <td>Movie</td>\n",
       "      <td>Kiss &amp; Cry</td>\n",
       "      <td>Sean Cisterna</td>\n",
       "      <td>Sarah Fisher, Luke Bilyk, Chantal Kreviazuk, S...</td>\n",
       "      <td>Canada</td>\n",
       "      <td>2017-05-01</td>\n",
       "      <td>2017</td>\n",
       "      <td>TV-MA</td>\n",
       "      <td>93 min</td>\n",
       "      <td>Dramas, International Movies, Romantic Movies</td>\n",
       "      <td>2017</td>\n",
       "      <td>5</td>\n",
       "    </tr>\n",
       "    <tr>\n",
       "      <th>4582</th>\n",
       "      <td>Movie</td>\n",
       "      <td>Luv Shuv Tey Chicken Khurana</td>\n",
       "      <td>Sameer Sharma</td>\n",
       "      <td>Kunal Kapoor, Huma Qureshi, Rajesh Sharma, Vip...</td>\n",
       "      <td>India</td>\n",
       "      <td>2018-10-01</td>\n",
       "      <td>2012</td>\n",
       "      <td>TV-14</td>\n",
       "      <td>129 min</td>\n",
       "      <td>Comedies, International Movies, Romantic Movies</td>\n",
       "      <td>2018</td>\n",
       "      <td>10</td>\n",
       "    </tr>\n",
       "  </tbody>\n",
       "</table>\n",
       "</div>"
      ],
      "text/plain": [
       "       type                                     title         director  \\\n",
       "3469  Movie                Little Baby Bum: Go Buster    Not Mentioned   \n",
       "56    Movie  Naruto Shippuden the Movie: Blood Prison  Masahiko Murata   \n",
       "4603  Movie                    Sat Shri Akaal England   Vikram Pradhan   \n",
       "5504  Movie                                Kiss & Cry    Sean Cisterna   \n",
       "4582  Movie              Luv Shuv Tey Chicken Khurana    Sameer Sharma   \n",
       "\n",
       "                                                   cast        country  \\\n",
       "3469                                      Not Mentioned  United States   \n",
       "56    Junko Takeuchi, Chie Nakamura, Rikiya Koyama, ...          Japan   \n",
       "4603  Ammy Virk, Monica Gill, Karamjit Anmol, Sardar...          India   \n",
       "5504  Sarah Fisher, Luke Bilyk, Chantal Kreviazuk, S...         Canada   \n",
       "4582  Kunal Kapoor, Huma Qureshi, Rajesh Sharma, Vip...          India   \n",
       "\n",
       "     date_added  release_year rating duration  \\\n",
       "3469 2019-10-01          2019   TV-Y   58 min   \n",
       "56   2021-09-15          2011  TV-14  102 min   \n",
       "4603 2018-10-01          2017  TV-14  127 min   \n",
       "5504 2017-05-01          2017  TV-MA   93 min   \n",
       "4582 2018-10-01          2012  TV-14  129 min   \n",
       "\n",
       "                                              listed_in  year  month  \n",
       "3469                           Children & Family Movies  2019     10  \n",
       "56    Action & Adventure, Anime Features, Internatio...  2021      9  \n",
       "4603             Comedies, Dramas, International Movies  2018     10  \n",
       "5504      Dramas, International Movies, Romantic Movies  2017      5  \n",
       "4582    Comedies, International Movies, Romantic Movies  2018     10  "
      ]
     },
     "execution_count": 44,
     "metadata": {},
     "output_type": "execute_result"
    }
   ],
   "source": [
    "df.sample(5)"
   ]
  },
  {
   "cell_type": "code",
   "execution_count": 45,
   "id": "8505e054",
   "metadata": {},
   "outputs": [],
   "source": [
    "df[\"day\"] = df[\"date_added\"].dt.day"
   ]
  },
  {
   "cell_type": "code",
   "execution_count": 46,
   "id": "ef496c53",
   "metadata": {},
   "outputs": [
    {
     "data": {
      "text/html": [
       "<div>\n",
       "<style scoped>\n",
       "    .dataframe tbody tr th:only-of-type {\n",
       "        vertical-align: middle;\n",
       "    }\n",
       "\n",
       "    .dataframe tbody tr th {\n",
       "        vertical-align: top;\n",
       "    }\n",
       "\n",
       "    .dataframe thead th {\n",
       "        text-align: right;\n",
       "    }\n",
       "</style>\n",
       "<table border=\"1\" class=\"dataframe\">\n",
       "  <thead>\n",
       "    <tr style=\"text-align: right;\">\n",
       "      <th></th>\n",
       "      <th>type</th>\n",
       "      <th>title</th>\n",
       "      <th>director</th>\n",
       "      <th>cast</th>\n",
       "      <th>country</th>\n",
       "      <th>date_added</th>\n",
       "      <th>release_year</th>\n",
       "      <th>rating</th>\n",
       "      <th>duration</th>\n",
       "      <th>listed_in</th>\n",
       "      <th>year</th>\n",
       "      <th>month</th>\n",
       "      <th>day</th>\n",
       "    </tr>\n",
       "  </thead>\n",
       "  <tbody>\n",
       "    <tr>\n",
       "      <th>149</th>\n",
       "      <td>Movie</td>\n",
       "      <td>I Got the Hook Up</td>\n",
       "      <td>Michael Martin</td>\n",
       "      <td>Master P, Anthony Johnson, Gretchen Palmer, Fr...</td>\n",
       "      <td>United States</td>\n",
       "      <td>2021-09-01</td>\n",
       "      <td>1998</td>\n",
       "      <td>R</td>\n",
       "      <td>93 min</td>\n",
       "      <td>Action &amp; Adventure, Comedies</td>\n",
       "      <td>2021</td>\n",
       "      <td>9</td>\n",
       "      <td>1</td>\n",
       "    </tr>\n",
       "    <tr>\n",
       "      <th>2678</th>\n",
       "      <td>Movie</td>\n",
       "      <td>Jem and the Holograms</td>\n",
       "      <td>Jon M. Chu</td>\n",
       "      <td>Aubrey Peeples, Stefanie Scott, Hayley Kiyoko,...</td>\n",
       "      <td>United States</td>\n",
       "      <td>2020-04-16</td>\n",
       "      <td>2015</td>\n",
       "      <td>PG</td>\n",
       "      <td>119 min</td>\n",
       "      <td>Children &amp; Family Movies, Dramas, Music &amp; Musi...</td>\n",
       "      <td>2020</td>\n",
       "      <td>4</td>\n",
       "      <td>16</td>\n",
       "    </tr>\n",
       "    <tr>\n",
       "      <th>8383</th>\n",
       "      <td>Movie</td>\n",
       "      <td>The Last Days of Chez Nous</td>\n",
       "      <td>Gillian Armstrong</td>\n",
       "      <td>Lisa Harrow, Bruno Ganz, Kerry Fox, Miranda Ot...</td>\n",
       "      <td>Australia</td>\n",
       "      <td>2016-11-01</td>\n",
       "      <td>1992</td>\n",
       "      <td>R</td>\n",
       "      <td>93 min</td>\n",
       "      <td>Classic Movies, Dramas</td>\n",
       "      <td>2016</td>\n",
       "      <td>11</td>\n",
       "      <td>1</td>\n",
       "    </tr>\n",
       "    <tr>\n",
       "      <th>791</th>\n",
       "      <td>Movie</td>\n",
       "      <td>Felon</td>\n",
       "      <td>Ric Roman Waugh</td>\n",
       "      <td>Stephen Dorff, Val Kilmer, Harold Perrineau, M...</td>\n",
       "      <td>United States</td>\n",
       "      <td>2021-06-02</td>\n",
       "      <td>2008</td>\n",
       "      <td>R</td>\n",
       "      <td>104 min</td>\n",
       "      <td>Action &amp; Adventure, Dramas</td>\n",
       "      <td>2021</td>\n",
       "      <td>6</td>\n",
       "      <td>2</td>\n",
       "    </tr>\n",
       "    <tr>\n",
       "      <th>8099</th>\n",
       "      <td>Movie</td>\n",
       "      <td>Straight Up</td>\n",
       "      <td>James Sweeney</td>\n",
       "      <td>James Sweeney, Katie Findlay, Randall Park, Hi...</td>\n",
       "      <td>United States</td>\n",
       "      <td>2020-06-26</td>\n",
       "      <td>2020</td>\n",
       "      <td>TV-MA</td>\n",
       "      <td>96 min</td>\n",
       "      <td>Comedies, Independent Movies, LGBTQ Movies</td>\n",
       "      <td>2020</td>\n",
       "      <td>6</td>\n",
       "      <td>26</td>\n",
       "    </tr>\n",
       "  </tbody>\n",
       "</table>\n",
       "</div>"
      ],
      "text/plain": [
       "       type                       title           director  \\\n",
       "149   Movie           I Got the Hook Up     Michael Martin   \n",
       "2678  Movie       Jem and the Holograms         Jon M. Chu   \n",
       "8383  Movie  The Last Days of Chez Nous  Gillian Armstrong   \n",
       "791   Movie                       Felon    Ric Roman Waugh   \n",
       "8099  Movie                 Straight Up      James Sweeney   \n",
       "\n",
       "                                                   cast        country  \\\n",
       "149   Master P, Anthony Johnson, Gretchen Palmer, Fr...  United States   \n",
       "2678  Aubrey Peeples, Stefanie Scott, Hayley Kiyoko,...  United States   \n",
       "8383  Lisa Harrow, Bruno Ganz, Kerry Fox, Miranda Ot...      Australia   \n",
       "791   Stephen Dorff, Val Kilmer, Harold Perrineau, M...  United States   \n",
       "8099  James Sweeney, Katie Findlay, Randall Park, Hi...  United States   \n",
       "\n",
       "     date_added  release_year rating duration  \\\n",
       "149  2021-09-01          1998      R   93 min   \n",
       "2678 2020-04-16          2015     PG  119 min   \n",
       "8383 2016-11-01          1992      R   93 min   \n",
       "791  2021-06-02          2008      R  104 min   \n",
       "8099 2020-06-26          2020  TV-MA   96 min   \n",
       "\n",
       "                                              listed_in  year  month  day  \n",
       "149                        Action & Adventure, Comedies  2021      9    1  \n",
       "2678  Children & Family Movies, Dramas, Music & Musi...  2020      4   16  \n",
       "8383                             Classic Movies, Dramas  2016     11    1  \n",
       "791                          Action & Adventure, Dramas  2021      6    2  \n",
       "8099         Comedies, Independent Movies, LGBTQ Movies  2020      6   26  "
      ]
     },
     "execution_count": 46,
     "metadata": {},
     "output_type": "execute_result"
    }
   ],
   "source": [
    "df.sample(5)"
   ]
  },
  {
   "cell_type": "code",
   "execution_count": 47,
   "id": "5d3555da",
   "metadata": {},
   "outputs": [],
   "source": [
    "df[\"genre\"] = df[\"listed_in\"].str.split(\",\").str[0]"
   ]
  },
  {
   "cell_type": "code",
   "execution_count": 48,
   "id": "84d247e7",
   "metadata": {},
   "outputs": [
    {
     "data": {
      "text/plain": [
       "Dramas                    1600\n",
       "Comedies                  1210\n",
       "Action & Adventure         859\n",
       "Documentaries              829\n",
       "International TV Shows     774\n",
       "Name: genre, dtype: int64"
      ]
     },
     "execution_count": 48,
     "metadata": {},
     "output_type": "execute_result"
    }
   ],
   "source": [
    "df[\"genre\"].value_counts().head(5)"
   ]
  },
  {
   "cell_type": "code",
   "execution_count": 49,
   "id": "ccd51f37",
   "metadata": {},
   "outputs": [],
   "source": [
    "df = df[df[\"cast\"]!=\"Not Mentioned\"]"
   ]
  },
  {
   "cell_type": "code",
   "execution_count": 50,
   "id": "e1c2400a",
   "metadata": {},
   "outputs": [],
   "source": [
    "df[\"lead_actor\"] = df[\"cast\"].str.split(\",\").str[0]"
   ]
  },
  {
   "cell_type": "code",
   "execution_count": 51,
   "id": "98ff6fc6",
   "metadata": {},
   "outputs": [
    {
     "data": {
      "text/plain": [
       "Shah Rukh Khan        26\n",
       "Akshay Kumar          23\n",
       "David Attenborough    20\n",
       "Adam Sandler          20\n",
       "Amitabh Bachchan      20\n",
       "Name: lead_actor, dtype: int64"
      ]
     },
     "execution_count": 51,
     "metadata": {},
     "output_type": "execute_result"
    }
   ],
   "source": [
    "df[\"lead_actor\"].value_counts().head(5)"
   ]
  },
  {
   "cell_type": "code",
   "execution_count": 52,
   "id": "604aa72f",
   "metadata": {},
   "outputs": [],
   "source": [
    "df.drop([\"date_added\",\"cast\",\"listed_in\"],axis=1,inplace=True)"
   ]
  },
  {
   "cell_type": "code",
   "execution_count": 53,
   "id": "399c5eee",
   "metadata": {},
   "outputs": [
    {
     "data": {
      "text/html": [
       "<div>\n",
       "<style scoped>\n",
       "    .dataframe tbody tr th:only-of-type {\n",
       "        vertical-align: middle;\n",
       "    }\n",
       "\n",
       "    .dataframe tbody tr th {\n",
       "        vertical-align: top;\n",
       "    }\n",
       "\n",
       "    .dataframe thead th {\n",
       "        text-align: right;\n",
       "    }\n",
       "</style>\n",
       "<table border=\"1\" class=\"dataframe\">\n",
       "  <thead>\n",
       "    <tr style=\"text-align: right;\">\n",
       "      <th></th>\n",
       "      <th>type</th>\n",
       "      <th>title</th>\n",
       "      <th>director</th>\n",
       "      <th>country</th>\n",
       "      <th>release_year</th>\n",
       "      <th>rating</th>\n",
       "      <th>duration</th>\n",
       "      <th>year</th>\n",
       "      <th>month</th>\n",
       "      <th>day</th>\n",
       "      <th>genre</th>\n",
       "      <th>lead_actor</th>\n",
       "    </tr>\n",
       "  </thead>\n",
       "  <tbody>\n",
       "    <tr>\n",
       "      <th>8418</th>\n",
       "      <td>Movie</td>\n",
       "      <td>The Mayor</td>\n",
       "      <td>Park In-je</td>\n",
       "      <td>South Korea</td>\n",
       "      <td>2017</td>\n",
       "      <td>TV-MA</td>\n",
       "      <td>130 min</td>\n",
       "      <td>2017</td>\n",
       "      <td>9</td>\n",
       "      <td>30</td>\n",
       "      <td>Dramas</td>\n",
       "      <td>Min-sik Choi</td>\n",
       "    </tr>\n",
       "    <tr>\n",
       "      <th>8631</th>\n",
       "      <td>Movie</td>\n",
       "      <td>Trixie Mattel: Moving Parts</td>\n",
       "      <td>Nicholas Zeig-Owens</td>\n",
       "      <td>United States</td>\n",
       "      <td>2019</td>\n",
       "      <td>TV-MA</td>\n",
       "      <td>91 min</td>\n",
       "      <td>2020</td>\n",
       "      <td>3</td>\n",
       "      <td>27</td>\n",
       "      <td>Documentaries</td>\n",
       "      <td>Brian Firkus</td>\n",
       "    </tr>\n",
       "    <tr>\n",
       "      <th>1909</th>\n",
       "      <td>Movie</td>\n",
       "      <td>Free State of Jones</td>\n",
       "      <td>Gary Ross</td>\n",
       "      <td>United States</td>\n",
       "      <td>2016</td>\n",
       "      <td>R</td>\n",
       "      <td>139 min</td>\n",
       "      <td>2020</td>\n",
       "      <td>10</td>\n",
       "      <td>1</td>\n",
       "      <td>Action &amp; Adventure</td>\n",
       "      <td>Matthew McConaughey</td>\n",
       "    </tr>\n",
       "    <tr>\n",
       "      <th>1528</th>\n",
       "      <td>TV Show</td>\n",
       "      <td>Run On</td>\n",
       "      <td>Not Mentioned</td>\n",
       "      <td>South Korea</td>\n",
       "      <td>2020</td>\n",
       "      <td>TV-MA</td>\n",
       "      <td>1 Season</td>\n",
       "      <td>2020</td>\n",
       "      <td>12</td>\n",
       "      <td>17</td>\n",
       "      <td>International TV Shows</td>\n",
       "      <td>Yim Si-wan</td>\n",
       "    </tr>\n",
       "    <tr>\n",
       "      <th>6946</th>\n",
       "      <td>Movie</td>\n",
       "      <td>Head Count</td>\n",
       "      <td>Elle Callahan</td>\n",
       "      <td>United States</td>\n",
       "      <td>2018</td>\n",
       "      <td>TV-MA</td>\n",
       "      <td>90 min</td>\n",
       "      <td>2019</td>\n",
       "      <td>9</td>\n",
       "      <td>13</td>\n",
       "      <td>Horror Movies</td>\n",
       "      <td>Isaac Jay</td>\n",
       "    </tr>\n",
       "  </tbody>\n",
       "</table>\n",
       "</div>"
      ],
      "text/plain": [
       "         type                        title             director  \\\n",
       "8418    Movie                    The Mayor           Park In-je   \n",
       "8631    Movie  Trixie Mattel: Moving Parts  Nicholas Zeig-Owens   \n",
       "1909    Movie          Free State of Jones            Gary Ross   \n",
       "1528  TV Show                       Run On        Not Mentioned   \n",
       "6946    Movie                   Head Count        Elle Callahan   \n",
       "\n",
       "            country  release_year rating  duration  year  month  day  \\\n",
       "8418    South Korea          2017  TV-MA   130 min  2017      9   30   \n",
       "8631  United States          2019  TV-MA    91 min  2020      3   27   \n",
       "1909  United States          2016      R   139 min  2020     10    1   \n",
       "1528    South Korea          2020  TV-MA  1 Season  2020     12   17   \n",
       "6946  United States          2018  TV-MA    90 min  2019      9   13   \n",
       "\n",
       "                       genre           lead_actor  \n",
       "8418                  Dramas         Min-sik Choi  \n",
       "8631           Documentaries         Brian Firkus  \n",
       "1909      Action & Adventure  Matthew McConaughey  \n",
       "1528  International TV Shows           Yim Si-wan  \n",
       "6946           Horror Movies            Isaac Jay  "
      ]
     },
     "execution_count": 53,
     "metadata": {},
     "output_type": "execute_result"
    }
   ],
   "source": [
    "df.sample(5)"
   ]
  },
  {
   "cell_type": "code",
   "execution_count": 54,
   "id": "31f2584d",
   "metadata": {},
   "outputs": [],
   "source": [
    "df.to_csv(\"cleaned_data.csv\")"
   ]
  },
  {
   "cell_type": "code",
   "execution_count": null,
   "id": "35f4ff80",
   "metadata": {},
   "outputs": [],
   "source": []
  }
 ],
 "metadata": {
  "kernelspec": {
   "display_name": "Python 3 (ipykernel)",
   "language": "python",
   "name": "python3"
  },
  "language_info": {
   "codemirror_mode": {
    "name": "ipython",
    "version": 3
   },
   "file_extension": ".py",
   "mimetype": "text/x-python",
   "name": "python",
   "nbconvert_exporter": "python",
   "pygments_lexer": "ipython3",
   "version": "3.11.4"
  }
 },
 "nbformat": 4,
 "nbformat_minor": 5
}
